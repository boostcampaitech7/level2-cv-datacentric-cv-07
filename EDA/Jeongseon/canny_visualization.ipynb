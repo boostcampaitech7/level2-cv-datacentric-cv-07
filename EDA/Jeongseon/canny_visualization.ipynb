{
 "cells": [
  {
   "cell_type": "code",
   "execution_count": 1,
   "metadata": {},
   "outputs": [],
   "source": [
    "import cv2\n",
    "import numpy as np\n",
    "from PIL import Image\n",
    "import matplotlib.pyplot as plt"
   ]
  },
  {
   "cell_type": "markdown",
   "metadata": {},
   "source": [
    "## 이미지 하나 Canny 적용해서 이미지 윤곽선, 배경 마스킹한 것 시각화하여 관찰"
   ]
  },
  {
   "cell_type": "code",
   "execution_count": null,
   "metadata": {},
   "outputs": [],
   "source": [
    "# 준비한 영수증 이미지 경로를 넣기\n",
    "image_path = '/data/ephemeral/home/data/chinese_receipt/img/train/extractor.zh.in_house.appen_000121_page0001.jpg'\n",
    "image = cv2.imread(image_path)\n",
    "\n",
    "# 그레이스케일로 변환\n",
    "gray = cv2.cvtColor(image, cv2.COLOR_BGR2GRAY)\n",
    "\n",
    "# Gaussian Blur로 노이즈 줄이기\n",
    "blurred = cv2.GaussianBlur(gray, (5, 5), 0)\n",
    "\n",
    "#erosion_kernel = np.ones((10, 10), np.uint8)\n",
    "#eroded_image = cv2.erode(blurred, erosion_kernel, iterations=1)\n",
    "#_, binary_image = cv2.threshold(blurred, 0, 255, cv2.THRESH_BINARY | cv2.THRESH_OTSU)\n",
    "\n",
    "# Canny edge detection 적용\n",
    "edges = cv2.Canny(blurred, 75, 200)\n",
    "\n",
    "# Apply dilation to thicken edges\n",
    "kernel = np.ones((3, 3), np.uint8)\n",
    "dilated_edges = cv2.dilate(edges, kernel, iterations=1)\n",
    "\n",
    "# Find contours and filter to keep only the largest contour\n",
    "contours, _ = cv2.findContours(dilated_edges, cv2.RETR_EXTERNAL, cv2.CHAIN_APPROX_SIMPLE)\n",
    "contours = sorted(contours, key=cv2.contourArea, reverse=True)  # Sort contours by area\n",
    "filtered_contours = [contours[0]] if contours else []  # Keep only the largest contour\n",
    "\n",
    "# Create a mask and draw the largest contour on it\n",
    "mask = np.zeros_like(gray)\n",
    "if filtered_contours:\n",
    "    cv2.drawContours(mask, filtered_contours, -1, 255, thickness=cv2.FILLED)\n",
    "\n",
    "# Apply the mask to the original image to highlight the largest contour only\n",
    "highlighted_image = cv2.bitwise_and(image, image, mask=mask)\n",
    "\n",
    "# 각 단계별로 시각화\n",
    "fig, axes = plt.subplots(1, 4, figsize=(20, 10))\n",
    "axes[0].imshow(cv2.cvtColor(image, cv2.COLOR_BGR2RGB))\n",
    "axes[0].set_title(\"Original Image\")\n",
    "axes[0].axis(\"off\")\n",
    "\n",
    "axes[1].imshow(edges, cmap=\"gray\")\n",
    "axes[1].set_title(\"Canny Edges\")\n",
    "axes[1].axis(\"off\")\n",
    "\n",
    "axes[2].imshow(dilated_edges, cmap=\"gray\")\n",
    "axes[2].set_title(\"Dilated Edges\")\n",
    "axes[2].axis(\"off\")\n",
    "\n",
    "axes[3].imshow(cv2.cvtColor(highlighted_image, cv2.COLOR_BGR2RGB))\n",
    "axes[3].set_title(\"Largest Contour Highlighted\")\n",
    "axes[3].axis(\"off\")\n",
    "\n",
    "plt.show()\n"
   ]
  },
  {
   "cell_type": "markdown",
   "metadata": {},
   "source": [
    "## image_files 리스트에 있는 이미지 Canny 적용해서 이미지 윤곽선, 배경 마스킹하여 저장하기"
   ]
  },
  {
   "cell_type": "code",
   "execution_count": 23,
   "metadata": {},
   "outputs": [
    {
     "name": "stdout",
     "output_type": "stream",
     "text": [
      "Processed and saved: /data/ephemeral/home/Jeongseon/output/result/viet/masked_extractor.vi.in_house.appen_000852_page0001.jpg\n"
     ]
    }
   ],
   "source": [
    "import cv2\n",
    "import os\n",
    "import numpy as np\n",
    "import matplotlib.pyplot as plt\n",
    "\n",
    "# 중국 이미지 목록 설정\n",
    "image_files = [\n",
    "    \"extractor.vi.in_house.appen_000852_page0001.jpg\",\n",
    "]\n",
    "\n",
    "\n",
    "# 경로 설정\n",
    "input_dir = '/data/ephemeral/home/Jeongseon/output/viet'  # 원본 이미지 경로\n",
    "output_dir = '/data/ephemeral/home/Jeongseon/output/result/viet'  # 결과 저장 경로\n",
    "\n",
    "# 결과 폴더 생성\n",
    "os.makedirs(output_dir, exist_ok=True)\n",
    "\n",
    "# 이미지 처리 함수\n",
    "def process_and_save_image(image_path, output_path):\n",
    "    # 이미지 로드 및 그레이스케일 변환\n",
    "    image = cv2.imread(image_path)\n",
    "    gray = cv2.cvtColor(image, cv2.COLOR_BGR2GRAY)\n",
    "\n",
    "    # Gaussian Blur 적용\n",
    "    blurred = cv2.GaussianBlur(gray, (5, 5), 0)\n",
    "\n",
    "    # Canny edge detection 적용\n",
    "    edges = cv2.Canny(blurred, 75, 200)\n",
    "\n",
    "    # 엣지 확장\n",
    "    kernel = np.ones((3, 3), np.uint8)\n",
    "    dilated_edges = cv2.dilate(edges, kernel, iterations=1)\n",
    "\n",
    "    # 가장 큰 윤곽만 남기기\n",
    "    contours, _ = cv2.findContours(dilated_edges, cv2.RETR_EXTERNAL, cv2.CHAIN_APPROX_SIMPLE)\n",
    "    contours = sorted(contours, key=cv2.contourArea, reverse=True)  # 크기순으로 정렬\n",
    "    filtered_contours = [contours[0]] if contours else []  # 가장 큰 윤곽만 사용\n",
    "\n",
    "    # 마스크 생성 및 적용\n",
    "    mask = np.zeros_like(gray)\n",
    "    if filtered_contours:\n",
    "        cv2.drawContours(mask, filtered_contours, -1, 255, thickness=cv2.FILLED)\n",
    "    \n",
    "    # 원본 이미지와 마스크 결합\n",
    "    highlighted_image = cv2.bitwise_and(image, image, mask=mask)\n",
    "\n",
    "    # 결과 이미지 저장\n",
    "    cv2.imwrite(output_path, highlighted_image)\n",
    "    print(f\"Processed and saved: {output_path}\")\n",
    "\n",
    "# 각 이미지 처리 및 저장\n",
    "for image_file in image_files:\n",
    "    image_path = os.path.join(input_dir, image_file)\n",
    "    output_path = os.path.join(output_dir, f\"masked_{image_file}\")\n",
    "    \n",
    "    if os.path.exists(image_path):\n",
    "        process_and_save_image(image_path, output_path)\n",
    "    else:\n",
    "        print(f\"Image not found: {image_path}\")\n"
   ]
  }
 ],
 "metadata": {
  "kernelspec": {
   "display_name": "torch",
   "language": "python",
   "name": "python3"
  },
  "language_info": {
   "codemirror_mode": {
    "name": "ipython",
    "version": 3
   },
   "file_extension": ".py",
   "mimetype": "text/x-python",
   "name": "python",
   "nbconvert_exporter": "python",
   "pygments_lexer": "ipython3",
   "version": "3.11.7"
  }
 },
 "nbformat": 4,
 "nbformat_minor": 2
}

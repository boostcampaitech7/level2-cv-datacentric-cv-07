{
 "cells": [
  {
   "cell_type": "code",
   "execution_count": null,
   "metadata": {},
   "outputs": [],
   "source": [
    "import re\n",
    "import matplotlib.pyplot as plt\n",
    "\n",
    "log_path = 'predicts/valid/valid_log.txt'\n",
    "#log_path = 'predictions/predicts/valid/valid_log.txt'\n",
    "f = open(log_path, 'r')\n",
    "logs = f.readlines()\n",
    "logs_dict = {'epoch': [], 'precision': [], 'recall': [], 'f1': []}\n",
    "\n",
    "for log in logs:\n",
    "    match = re.search(r'epoch: (\\d+), precision: ([0-9.]+), recall: ([0-9.]+), f1: ([0-9.]+)', log)\n",
    "\n",
    "    logs_dict['epoch'].append(int(match.group(1)))\n",
    "    logs_dict['precision'].append(float(match.group(2)))\n",
    "    logs_dict['recall'].append(float(match.group(3)))\n",
    "    logs_dict['f1'].append(float(match.group(4)))\n",
    "\n",
    "\n",
    "fig, ax = plt.subplots(1, 2, figsize = (16, 6))\n",
    "\n",
    "ax[0].plot(logs_dict['epoch'], logs_dict['f1'], label='f1')\n",
    "ax[0].plot(logs_dict['epoch'], logs_dict['precision'], label='precision')\n",
    "ax[0].plot(logs_dict['epoch'], logs_dict['recall'], label='recall')\n",
    "\n",
    "ax[0].legend()\n",
    "ax[0].set_xlabel('Epoch')\n",
    "\n",
    "ax[1].plot(logs_dict['epoch'], logs_dict['f1'], label='f1')\n",
    "ax[1].legend()\n",
    "ax[1].set_xlabel('Epoch')\n"
   ]
  }
 ],
 "metadata": {
  "kernelspec": {
   "display_name": "torch",
   "language": "python",
   "name": "python3"
  },
  "language_info": {
   "codemirror_mode": {
    "name": "ipython",
    "version": 3
   },
   "file_extension": ".py",
   "mimetype": "text/x-python",
   "name": "python",
   "nbconvert_exporter": "python",
   "pygments_lexer": "ipython3",
   "version": "3.10.13"
  }
 },
 "nbformat": 4,
 "nbformat_minor": 2
}

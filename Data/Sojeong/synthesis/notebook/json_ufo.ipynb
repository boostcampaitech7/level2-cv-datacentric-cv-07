{
 "cells": [
  {
   "cell_type": "code",
   "execution_count": null,
   "metadata": {
    "vscode": {
     "languageId": "plaintext"
    }
   },
   "outputs": [],
   "source": [
    "import json\n",
    "\n",
    "# 원본 파일 경로와 새로운 저장 파일 경로 설정\n",
    "input_file_path = \"your_input_data_path.json\"  # 원본 JSON 파일 경로 설정\n",
    "output_file_path = \"your_output_data_path.json\"  # 저장할 JSON 파일 경로 설정\n",
    "\n",
    "# JSON 파일 로드\n",
    "with open(input_file_path, \"r\", encoding=\"utf-8\") as f:\n",
    "    data = json.load(f)\n",
    "\n",
    "# \"transcription\": \"----------------------------------------\"인 어노테이션 제거\n",
    "for image, image_data in data[\"images\"].items():\n",
    "    words_to_delete = [\n",
    "        word_id for word_id, word_data in image_data[\"words\"].items()\n",
    "        if word_data[\"transcription\"] == \"----------------------------------------\"\n",
    "    ]\n",
    "    \n",
    "    # 삭제할 어노테이션 키 제거\n",
    "    for word_id in words_to_delete:\n",
    "        del image_data[\"words\"][word_id]\n",
    "\n",
    "# 필터링된 데이터를 새로운 파일에 저장\n",
    "with open(output_file_path, \"w\", encoding=\"utf-8\") as f:\n",
    "    json.dump(data, f, ensure_ascii=False, indent=4)\n",
    "\n",
    "print(\"필터링된 데이터가 새로운 파일에 저장되었습니다:\", output_file_path)"
   ]
  }
 ],
 "metadata": {
  "language_info": {
   "name": "python"
  }
 },
 "nbformat": 4,
 "nbformat_minor": 2
}

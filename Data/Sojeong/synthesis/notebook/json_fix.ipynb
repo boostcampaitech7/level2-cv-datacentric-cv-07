{
 "cells": [
  {
   "cell_type": "code",
   "execution_count": 3,
   "metadata": {},
   "outputs": [
    {
     "name": "stdout",
     "output_type": "stream",
     "text": [
      "필터링된 데이터가 새로운 파일에 저장되었습니다: /data/ephemeral/home/Sojeong/level2-cv-datacentric-cv-07/Data/Sojeong/synthesis/synth_data/thai_receipt/filtered_thai_ufo_data.json\n"
     ]
    }
   ],
   "source": [
    "import json\n",
    "\n",
    "# 원본 파일 경로와 새로운 저장 파일 경로 설정\n",
    "input_file_path = \"/data/ephemeral/home/Sojeong/level2-cv-datacentric-cv-07/Data/Sojeong/synthesis/synth_data/thai_receipt/thai_ufo_data.json\"\n",
    "output_file_path = \"/data/ephemeral/home/Sojeong/level2-cv-datacentric-cv-07/Data/Sojeong/synthesis/synth_data/thai_receipt/filtered_thai_ufo_data.json\"\n",
    "\n",
    "# JSON 파일 로드\n",
    "with open(input_file_path, \"r\", encoding=\"utf-8\") as f:\n",
    "    data = json.load(f)\n",
    "\n",
    "# \"transcription\": \"----------------------------------------\"인 어노테이션 제거\n",
    "for image, image_data in data[\"images\"].items():\n",
    "    words_to_delete = [word_id for word_id, word_data in image_data[\"words\"].items() \n",
    "                       if word_data[\"transcription\"] == \"----------------------------------------\"]\n",
    "    \n",
    "    # 삭제할 어노테이션 키 제거\n",
    "    for word_id in words_to_delete:\n",
    "        del image_data[\"words\"][word_id]\n",
    "\n",
    "# 필터링된 데이터를 새로운 파일에 저장\n",
    "with open(output_file_path, \"w\", encoding=\"utf-8\") as f:\n",
    "    json.dump(data, f, ensure_ascii=False, indent=4)\n",
    "\n",
    "print(\"필터링된 데이터가 새로운 파일에 저장되었습니다:\", output_file_path)\n"
   ]
  },
  {
   "cell_type": "code",
   "execution_count": null,
   "metadata": {},
   "outputs": [],
   "source": []
  }
 ],
 "metadata": {
  "kernelspec": {
   "display_name": "torch",
   "language": "python",
   "name": "python3"
  },
  "language_info": {
   "codemirror_mode": {
    "name": "ipython",
    "version": 3
   },
   "file_extension": ".py",
   "mimetype": "text/x-python",
   "name": "python",
   "nbconvert_exporter": "python",
   "pygments_lexer": "ipython3",
   "version": "3.10.13"
  }
 },
 "nbformat": 4,
 "nbformat_minor": 2
}

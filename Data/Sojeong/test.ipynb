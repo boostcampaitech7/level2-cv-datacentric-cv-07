{
 "cells": [
  {
   "cell_type": "code",
   "execution_count": 1,
   "metadata": {},
   "outputs": [],
   "source": [
    "import json\n",
    "import numpy as np"
   ]
  },
  {
   "cell_type": "code",
   "execution_count": 2,
   "metadata": {},
   "outputs": [],
   "source": [
    "def read_json(file_path):\n",
    "    with open(file_path, \"r\") as f:\n",
    "        data = json.load(f)\n",
    "    return data\n",
    "\n",
    "def extract_keywords(json_path):\n",
    "    arrs = []\n",
    "    json_data = read_json(json_path)\n",
    "    \n",
    "    for image_name, image_info in json_data['images'].items():\n",
    "        words = image_info['words']\n",
    "        arr = [value['transcription'] for key, value in words.items()]\n",
    "        arrs.extend(arr)\n",
    "\n",
    "    return arrs"
   ]
  },
  {
   "cell_type": "code",
   "execution_count": 4,
   "metadata": {},
   "outputs": [
    {
     "data": {
      "text/plain": [
       "'  1  谢谢惠顾，欢迎再次光临  965845134651  1  序  份  优惠：  脆皮牛腩  应付金额  其他折让    喜之郎CICI果汁果冻爽香橙味1  1.00  10.7  本次积分：  生蚝档  会员号：  http://checkcoverage.apple.com  小计  5  1瓶  13.  2  202402294922  1.  共计：  胡婆婆鸡蛋干  10.青岛老炸肉  请顾客在购物  结账单-堂食  2024-03-01  32  5.90  17.赠送果盘  数量：3.69  A2.  商品名称  折扣金额：  3.50  每日C橙汁  20  累计优惠：  0.00  ×  5.鸿运当头  19  1  商品名称  0  3  纯悦矿泉水  欢迎下次光临  （重复制单）  结账时间：2024-03-07  原价/会员价  5.36  （瓶）  3份  付款合计  3200916003684  2.65  3.50  C.特  潮汕海鲜砂  01731  类  001    25  0.5  应收金额：35.5  并保管    收款员：400803  0kg  品名/条码    6  2.9  8.  备注信息：M2212590004520231016009  9.5    贴身内衣  申请开发票二维码：  ：    2  单价  收银    56.20  4  ¥  儲值余额：0  5.90  0.00  谢谢惠顾  '"
      ]
     },
     "execution_count": 4,
     "metadata": {},
     "output_type": "execute_result"
    }
   ],
   "source": [
    "json_paths = [\"/data/ephemeral/home/data/chinese_receipt/ufo/train.json\",]\n",
    "              #\"/data/ephemeral/home/data/japanese_receipt/ufo/train.json\",\n",
    "              #\"/data/ephemeral/home/data/thai_receipt/ufo/train.json\",\n",
    "              #\"/data/ephemeral/home/data/vietnamese_receipt/ufo/train.json\"]\n",
    "\n",
    "arrs = []\n",
    "for json_path in json_paths:\n",
    "    arr = extract_keywords(json_path)\n",
    "    arrs.extend(arr)\n",
    "\n",
    "arrs_permute = np.random.permutation(arrs)\n",
    "result_text = '  '.join(arrs_permute[0:100])\n",
    "result_text"
   ]
  },
  {
   "cell_type": "code",
   "execution_count": 5,
   "metadata": {},
   "outputs": [],
   "source": [
    "# 결과를 텍스트 파일로 저장\n",
    "with open(\"chinese_words.txt\", \"w\") as file:\n",
    "    file.write(result_text)"
   ]
  },
  {
   "cell_type": "code",
   "execution_count": null,
   "metadata": {},
   "outputs": [],
   "source": []
  }
 ],
 "metadata": {
  "kernelspec": {
   "display_name": "base",
   "language": "python",
   "name": "python3"
  },
  "language_info": {
   "codemirror_mode": {
    "name": "ipython",
    "version": 3
   },
   "file_extension": ".py",
   "mimetype": "text/x-python",
   "name": "python",
   "nbconvert_exporter": "python",
   "pygments_lexer": "ipython3",
   "version": "3.10.13"
  }
 },
 "nbformat": 4,
 "nbformat_minor": 2
}

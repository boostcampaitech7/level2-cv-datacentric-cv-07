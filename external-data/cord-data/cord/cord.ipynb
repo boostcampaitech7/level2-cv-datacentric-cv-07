{
 "cells": [
  {
   "cell_type": "code",
   "execution_count": null,
   "metadata": {},
   "outputs": [],
   "source": [
    "# CORD 데이터셋 다운로드\n",
    "\n",
    "! pip install datasets\n",
    "\n",
    "from datasets import load_dataset\n",
    "ds = load_dataset(\"naver-clova-ix/cord-v2\")"
   ]
  },
  {
   "cell_type": "code",
   "execution_count": 22,
   "metadata": {},
   "outputs": [],
   "source": [
    "# CORD ground_truth 저장\n",
    "\n",
    "import json \n",
    "test_img_gt = ds['test']['ground_truth']\n",
    "\n",
    "final = []\n",
    "for gt in test_img_gt:\n",
    "    gt = json.loads(gt)\n",
    "    final.append(gt)\n",
    "with open('cord_gt.json', 'w', encoding='utf-8') as f:\n",
    "    json.dump(final, f, indent=4)\n"
   ]
  },
  {
   "cell_type": "code",
   "execution_count": 45,
   "metadata": {},
   "outputs": [],
   "source": [
    "# CORD 이미지 저장(train + test + validation)\n",
    "\n",
    "import os\n",
    "\n",
    "train_img_data = ds['train']['image']\n",
    "test_img_data = ds['test']['image']\n",
    "validation_img_data = ds['validation']['image']\n",
    "\n",
    "img_data = train_img_data + test_img_data + validation_img_data\n",
    "\n",
    "for i in range(len(img_data)):\n",
    "    # image = ImageOps.exif_transpose(Image.open(validation_img_data[i])).convert(\"RGB\")\n",
    "    output_path = os.path.join('img', f\"cord_{i+1}.jpg\")\n",
    "    img_data[i].save(output_path, \"JPEG\")"
   ]
  }
 ],
 "metadata": {
  "kernelspec": {
   "display_name": "base",
   "language": "python",
   "name": "python3"
  },
  "language_info": {
   "codemirror_mode": {
    "name": "ipython",
    "version": 3
   },
   "file_extension": ".py",
   "mimetype": "text/x-python",
   "name": "python",
   "nbconvert_exporter": "python",
   "pygments_lexer": "ipython3",
   "version": "3.10.13"
  },
  "orig_nbformat": 4
 },
 "nbformat": 4,
 "nbformat_minor": 2
}
